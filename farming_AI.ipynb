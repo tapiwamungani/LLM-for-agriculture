{
 "cells": [
  {
   "cell_type": "code",
   "execution_count": 2,
   "id": "5635b573",
   "metadata": {},
   "outputs": [],
   "source": [
    "import os \n",
    "from crewai import Agent, Task, Crew, Process"
   ]
  },
  {
   "cell_type": "code",
   "execution_count": 4,
   "id": "8dbc7986",
   "metadata": {},
   "outputs": [],
   "source": [
    "os.environ[\"OPENAI_API_KEY\"] = \"sk-t3XZ2L***************************\"\n",
    "os.environ[\"TAVILY_API_KEY\"] = \"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\""
   ]
  },
  {
   "cell_type": "code",
   "execution_count": 5,
   "id": "a4c94dc3",
   "metadata": {},
   "outputs": [],
   "source": [
    "from langchain_community.tools.tavily_search import TavilySearchResults\n",
    "search_tool = TavilySearchResults()"
   ]
  },
  {
   "cell_type": "code",
   "execution_count": 6,
   "id": "b355b739",
   "metadata": {},
   "outputs": [],
   "source": [
    "researcher = Agent(\n",
    "    role= \"Agronomist\",\n",
    "    goal=\"To study plants and how they can be grown, modified, and used to benefit society\",\n",
    "    backstory=\"\"\"You as an Agronomist your primary goal is to optimize agricultural productivity, \n",
    "    sustainability, and profitability through addressing issues to do with Crop Management,\n",
    "    Soil Management,Field Planning and Layout,Water Management, \n",
    "    Crop Monitoring, Advisory and Education,Regulatory Compliance.\"\"\",\n",
    "    verbose=True,\n",
    "    allow_delegation=False,\n",
    "    tools=[search_tool]\n",
    "    \n",
    ")"
   ]
  },
  {
   "cell_type": "code",
   "execution_count": 7,
   "id": "72a6b543",
   "metadata": {},
   "outputs": [],
   "source": [
    "writer = Agent(\n",
    "  role='Agriculture Strategist',\n",
    "  goal='Craft and compell agricultural Strategy',\n",
    "  backstory=\"\"\"You are a renowned Agricultual Strategist, known for your insightful and engaging reporting about agriculture.\n",
    "                You transform complex concepts into compelling narratives.\"\"\",\n",
    "  verbose=True,\n",
    "  allow_delegation=True,\n",
    "  # (optional) llm=ollama_llm\n",
    ")"
   ]
  },
  {
   "cell_type": "code",
   "execution_count": 8,
   "id": "0a501544",
   "metadata": {},
   "outputs": [],
   "source": [
    "task1 = Task(\n",
    "    description=\"\"\"The agronomist will commence by conducting extensive literature reviews and staying current on the latest research in plant biology, genetics, \n",
    "    and agronomy, followed by the critical analysis of existing crop varieties to identify opportunities for improvement.\n",
    "    Emphasis will be placed on the identification and evaluation of crops with high economic value or societal benefits. \n",
    "    The agronomist will explore genetic modification techniques, collaborating with biotechnologists to develop genetically modified crops with enhanced traits. \n",
    "    Sustainable agriculture practices will be a focal point, with the development of strategies to improve soil health, water efficiency, and resource utilization. \n",
    "    The integration of advanced technologies such as precision agriculture tools and digital solutions for efficient crop management will be pursued. \n",
    "    Field trials will be conducted to assess the performance of modified crops under diverse environmental conditions, with comprehensive data collection and analysis. \n",
    "    Educational outreach efforts will include the development of materials for farmers and community workshops on the benefits of modified crops and sustainable agriculture. \n",
    "    Collaboration with stakeholders, compliance with regulatory guidelines, and continuous learning through attendance at conferences and professional development will be ongoing. \n",
    "    The agronomist will establish a robust data management system and regularly evaluate the impact of plant modifications on productivity, economic outcomes, and societal benefits, adjusting research and implementation strategies accordingly.\n",
    "    \"\"\",\n",
    "    \n",
    "    agent = researcher\n",
    "\n",
    ")"
   ]
  },
  {
   "cell_type": "code",
   "execution_count": 9,
   "id": "136f9724",
   "metadata": {},
   "outputs": [],
   "source": [
    "task2 =  Task(\n",
    "    description=\"\"\"Using the insight provided give a detailed report for the farmer \"\"\",\n",
    "    agent = writer\n",
    "\n",
    ")"
   ]
  },
  {
   "cell_type": "code",
   "execution_count": 10,
   "id": "1f789b81",
   "metadata": {},
   "outputs": [],
   "source": [
    "crew = Crew(\n",
    "  agents=[researcher, writer],\n",
    "  tasks=[task1, task2],\n",
    "  verbose=2, # You can set it to 1 or 2 to different logging levels\n",
    ")"
   ]
  },
  {
   "cell_type": "code",
   "execution_count": 11,
   "id": "0498dfec",
   "metadata": {},
   "outputs": [
    {
     "name": "stdout",
     "output_type": "stream",
     "text": [
      "\n",
      "[DEBUG]: Working Agent: Agronomist\n",
      "\n",
      "[INFO]: Starting Task: The agronomist will commence by conducting extensive literature reviews and staying current on the latest research in plant biology, genetics, \n",
      "    and agronomy, followed by the critical analysis of existing crop varieties to identify opportunities for improvement.\n",
      "    Emphasis will be placed on the identification and evaluation of crops with high economic value or societal benefits. \n",
      "    The agronomist will explore genetic modification techniques, collaborating with biotechnologists to develop genetically modified crops with enhanced traits. \n",
      "    Sustainable agriculture practices will be a focal point, with the development of strategies to improve soil health, water efficiency, and resource utilization. \n",
      "    The integration of advanced technologies such as precision agriculture tools and digital solutions for efficient crop management will be pursued. \n",
      "    Field trials will be conducted to assess the performance of modified crops under diverse environmental conditions, with comprehensive data collection and analysis. \n",
      "    Educational outreach efforts will include the development of materials for farmers and community workshops on the benefits of modified crops and sustainable agriculture. \n",
      "    Collaboration with stakeholders, compliance with regulatory guidelines, and continuous learning through attendance at conferences and professional development will be ongoing. \n",
      "    The agronomist will establish a robust data management system and regularly evaluate the impact of plant modifications on productivity, economic outcomes, and societal benefits, adjusting research and implementation strategies accordingly.\n",
      "    \n",
      "\n",
      "\n",
      "\u001b[1m> Entering new CrewAgentExecutor chain...\u001b[0m\n",
      "\u001b[32;1m\u001b[1;3mThought: Do I need to use a tool? No\n",
      "Final Answer: As an agronomist, my primary objective will be to optimize agricultural productivity, sustainability, and profitability. I will start by conducting extensive literature reviews and staying current on the latest research in plant biology, genetics, and agronomy. This will involve the critical analysis of existing crop varieties to identify opportunities for improvement, with a focus on crops with high economic value or societal benefits.\n",
      "\n",
      "I will explore genetic modification techniques and collaborate with biotechnologists to develop genetically modified crops with enhanced traits. My work will also embrace sustainable agriculture practices, developing strategies to improve soil health, water efficiency, and resource utilization.\n",
      "\n",
      "The use of advanced technologies such as precision agriculture tools and digital solutions for efficient crop management will be a part of my strategy. I will also conduct field trials to assess the performance of modified crops under diverse environmental conditions, ensuring comprehensive data collection and analysis.\n",
      "\n",
      "I will also focus on educational outreach efforts, developing materials for farmers, and conducting community workshops on the benefits of modified crops and sustainable agriculture. I will collaborate with stakeholders, comply with regulatory guidelines, and commit to continuous learning through attendance at conferences and professional development.\n",
      "\n",
      "I will establish a robust data management system and regularly evaluate the impact of plant modifications on productivity, economic outcomes, and societal benefits. This will allow me to adjust my research and implementation strategies as necessary.\u001b[0m\n",
      "\n",
      "\u001b[1m> Finished chain.\u001b[0m\n",
      "\n",
      "[DEBUG]: [Agronomist] Task output: As an agronomist, my primary objective will be to optimize agricultural productivity, sustainability, and profitability. I will start by conducting extensive literature reviews and staying current on the latest research in plant biology, genetics, and agronomy. This will involve the critical analysis of existing crop varieties to identify opportunities for improvement, with a focus on crops with high economic value or societal benefits.\n",
      "\n",
      "I will explore genetic modification techniques and collaborate with biotechnologists to develop genetically modified crops with enhanced traits. My work will also embrace sustainable agriculture practices, developing strategies to improve soil health, water efficiency, and resource utilization.\n",
      "\n",
      "The use of advanced technologies such as precision agriculture tools and digital solutions for efficient crop management will be a part of my strategy. I will also conduct field trials to assess the performance of modified crops under diverse environmental conditions, ensuring comprehensive data collection and analysis.\n",
      "\n",
      "I will also focus on educational outreach efforts, developing materials for farmers, and conducting community workshops on the benefits of modified crops and sustainable agriculture. I will collaborate with stakeholders, comply with regulatory guidelines, and commit to continuous learning through attendance at conferences and professional development.\n",
      "\n",
      "I will establish a robust data management system and regularly evaluate the impact of plant modifications on productivity, economic outcomes, and societal benefits. This will allow me to adjust my research and implementation strategies as necessary.\n",
      "\n",
      "\n",
      "\n",
      "[DEBUG]: Working Agent: Agriculture Strategist\n",
      "\n",
      "[INFO]: Starting Task: Using the insight provided give a detailed report for the farmer \n",
      "\n",
      "\n",
      "\u001b[1m> Entering new CrewAgentExecutor chain...\u001b[0m\n",
      "\u001b[32;1m\u001b[1;3mThought: Do I need to use a tool? No\n",
      "Final Answer: Based on the provided insight, the agricultural strategy would revolve around optimizing productivity, sustainability, and profitability. \n",
      "\n",
      "The strategy starts with a comprehensive review of the latest research in plant biology, genetics, and agronomy. This helps identify opportunities for improvement, particularly in crops with high economic value or those that bring societal benefits.\n",
      "\n",
      "One of the key approaches involves exploring genetic modification techniques. In collaboration with biotechnologists, we aim to develop genetically modified crops with enhanced traits. This could range from disease resistance to increased yield, depending on the specific needs of the farmer and the local agricultural conditions.\n",
      "\n",
      "Sustainability is also a vital aspect of our strategy. We focus on improving soil health, water efficiency, and resource utilization. This includes the use of advanced technologies like precision agriculture tools and digital solutions, which can help manage crops more efficiently and reduce waste.\n",
      "\n",
      "Field trials are an integral part of our work. These trials assess the performance of modified crops under different environmental conditions. They ensure comprehensive data collection and analysis, which are essential for making informed decisions about the viability of specific crop modifications.\n",
      "\n",
      "Education, too, plays a significant part in our strategy. By developing educational materials and conducting community workshops, we aim to inform farmers about the benefits of modified crops and sustainable agriculture. This not only helps improve their farming practices but also fosters a sense of community and shared learning.\n",
      "\n",
      "Finally, a robust data management system is in place to evaluate the impact of plant modifications on productivity, economic outcomes, and societal benefits. This system allows for continual adjustment and refinement of research and implementation strategies.\n",
      "\n",
      "It's important to note that our strategy is not static but constantly evolving, based on new research findings, regulatory changes, and feedback from farmers and other stakeholders. This commitment to continuous learning and improvement is what sets us apart and ensures our strategies remain relevant and effective.\u001b[0m\n",
      "\n",
      "\u001b[1m> Finished chain.\u001b[0m\n",
      "\n",
      "[DEBUG]: [Agriculture Strategist] Task output: Based on the provided insight, the agricultural strategy would revolve around optimizing productivity, sustainability, and profitability. \n",
      "\n",
      "The strategy starts with a comprehensive review of the latest research in plant biology, genetics, and agronomy. This helps identify opportunities for improvement, particularly in crops with high economic value or those that bring societal benefits.\n",
      "\n",
      "One of the key approaches involves exploring genetic modification techniques. In collaboration with biotechnologists, we aim to develop genetically modified crops with enhanced traits. This could range from disease resistance to increased yield, depending on the specific needs of the farmer and the local agricultural conditions.\n",
      "\n",
      "Sustainability is also a vital aspect of our strategy. We focus on improving soil health, water efficiency, and resource utilization. This includes the use of advanced technologies like precision agriculture tools and digital solutions, which can help manage crops more efficiently and reduce waste.\n",
      "\n",
      "Field trials are an integral part of our work. These trials assess the performance of modified crops under different environmental conditions. They ensure comprehensive data collection and analysis, which are essential for making informed decisions about the viability of specific crop modifications.\n",
      "\n",
      "Education, too, plays a significant part in our strategy. By developing educational materials and conducting community workshops, we aim to inform farmers about the benefits of modified crops and sustainable agriculture. This not only helps improve their farming practices but also fosters a sense of community and shared learning.\n",
      "\n",
      "Finally, a robust data management system is in place to evaluate the impact of plant modifications on productivity, economic outcomes, and societal benefits. This system allows for continual adjustment and refinement of research and implementation strategies.\n",
      "\n",
      "It's important to note that our strategy is not static but constantly evolving, based on new research findings, regulatory changes, and feedback from farmers and other stakeholders. This commitment to continuous learning and improvement is what sets us apart and ensures our strategies remain relevant and effective.\n",
      "\n",
      "\n"
     ]
    }
   ],
   "source": [
    "result = crew.kickoff()"
   ]
  },
  {
   "cell_type": "code",
   "execution_count": null,
   "id": "6a038709",
   "metadata": {},
   "outputs": [],
   "source": []
  }
 ],
 "metadata": {
  "kernelspec": {
   "display_name": "Python 3 (ipykernel)",
   "language": "python",
   "name": "python3"
  },
  "language_info": {
   "codemirror_mode": {
    "name": "ipython",
    "version": 3
   },
   "file_extension": ".py",
   "mimetype": "text/x-python",
   "name": "python",
   "nbconvert_exporter": "python",
   "pygments_lexer": "ipython3",
   "version": "3.11.5"
  }
 },
 "nbformat": 4,
 "nbformat_minor": 5
}
